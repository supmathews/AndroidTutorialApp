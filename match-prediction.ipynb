{
 "cells": [
  {
   "cell_type": "code",
   "execution_count": 1,
   "id": "143554ea",
   "metadata": {
    "_cell_guid": "b1076dfc-b9ad-4769-8c92-a6c4dae69d19",
    "_uuid": "8f2839f25d086af736a60e9eeb907d3b93b6e0e5",
    "execution": {
     "iopub.execute_input": "2021-12-26T18:09:24.775578Z",
     "iopub.status.busy": "2021-12-26T18:09:24.774930Z",
     "iopub.status.idle": "2021-12-26T18:09:24.789799Z",
     "shell.execute_reply": "2021-12-26T18:09:24.790293Z",
     "shell.execute_reply.started": "2021-12-26T17:52:40.529852Z"
    },
    "papermill": {
     "duration": 0.03376,
     "end_time": "2021-12-26T18:09:24.790598",
     "exception": false,
     "start_time": "2021-12-26T18:09:24.756838",
     "status": "completed"
    },
    "tags": []
   },
   "outputs": [
    {
     "name": "stdout",
     "output_type": "stream",
     "text": [
      "/kaggle/input/2004-australian-football-grand-final/PortAdelaideScores2004.csv\n",
      "/kaggle/input/2004-australian-football-grand-final/BrisbaneScores2004.csv\n"
     ]
    }
   ],
   "source": [
    "# This Python 3 environment comes with many helpful analytics libraries installed\n",
    "# It is defined by the kaggle/python Docker image: https://github.com/kaggle/docker-python\n",
    "# For example, here's several helpful packages to load\n",
    "\n",
    "import numpy as np # linear algebra\n",
    "import pandas as pd # data processing, CSV file I/O (e.g. pd.read_csv)\n",
    "\n",
    "# Input data files are available in the read-only \"../input/\" directory\n",
    "# For example, running this (by clicking run or pressing Shift+Enter) will list all files under the input directory\n",
    "\n",
    "import os\n",
    "for dirname, _, filenames in os.walk('/kaggle/input'):\n",
    "    for filename in filenames:\n",
    "        print(os.path.join(dirname, filename))\n",
    "\n",
    "# You can write up to 20GB to the current directory (/kaggle/working/) that gets preserved as output when you create a version using \"Save & Run All\" \n",
    "# You can also write temporary files to /kaggle/temp/, but they won't be saved outside of the current session"
   ]
  },
  {
   "cell_type": "code",
   "execution_count": 2,
   "id": "16ce02f9",
   "metadata": {
    "execution": {
     "iopub.execute_input": "2021-12-26T18:09:24.809021Z",
     "iopub.status.busy": "2021-12-26T18:09:24.808055Z",
     "iopub.status.idle": "2021-12-26T18:09:24.826687Z",
     "shell.execute_reply": "2021-12-26T18:09:24.827220Z",
     "shell.execute_reply.started": "2021-12-26T17:57:20.241304Z"
    },
    "papermill": {
     "duration": 0.02916,
     "end_time": "2021-12-26T18:09:24.827429",
     "exception": false,
     "start_time": "2021-12-26T18:09:24.798269",
     "status": "completed"
    },
    "tags": []
   },
   "outputs": [],
   "source": [
    "adelaide_df = pd.read_csv('/kaggle/input/2004-australian-football-grand-final/PortAdelaideScores2004.csv')\n",
    "brisbane_df = pd.read_csv('/kaggle/input/2004-australian-football-grand-final/BrisbaneScores2004.csv')"
   ]
  },
  {
   "cell_type": "code",
   "execution_count": 3,
   "id": "8b179595",
   "metadata": {
    "execution": {
     "iopub.execute_input": "2021-12-26T18:09:24.850553Z",
     "iopub.status.busy": "2021-12-26T18:09:24.849867Z",
     "iopub.status.idle": "2021-12-26T18:09:24.866904Z",
     "shell.execute_reply": "2021-12-26T18:09:24.867418Z",
     "shell.execute_reply.started": "2021-12-26T17:57:21.062786Z"
    },
    "papermill": {
     "duration": 0.032875,
     "end_time": "2021-12-26T18:09:24.867599",
     "exception": false,
     "start_time": "2021-12-26T18:09:24.834724",
     "status": "completed"
    },
    "tags": []
   },
   "outputs": [
    {
     "data": {
      "text/html": [
       "<div>\n",
       "<style scoped>\n",
       "    .dataframe tbody tr th:only-of-type {\n",
       "        vertical-align: middle;\n",
       "    }\n",
       "\n",
       "    .dataframe tbody tr th {\n",
       "        vertical-align: top;\n",
       "    }\n",
       "\n",
       "    .dataframe thead th {\n",
       "        text-align: right;\n",
       "    }\n",
       "</style>\n",
       "<table border=\"1\" class=\"dataframe\">\n",
       "  <thead>\n",
       "    <tr style=\"text-align: right;\">\n",
       "      <th></th>\n",
       "      <th>Round</th>\n",
       "      <th>Home Team</th>\n",
       "      <th>Home Team Score</th>\n",
       "      <th>Away Team</th>\n",
       "      <th>Away Team Score</th>\n",
       "    </tr>\n",
       "  </thead>\n",
       "  <tbody>\n",
       "    <tr>\n",
       "      <th>0</th>\n",
       "      <td>1</td>\n",
       "      <td>Brisbane</td>\n",
       "      <td>80</td>\n",
       "      <td>Sydney</td>\n",
       "      <td>78</td>\n",
       "    </tr>\n",
       "    <tr>\n",
       "      <th>1</th>\n",
       "      <td>2</td>\n",
       "      <td>Adelaide</td>\n",
       "      <td>83</td>\n",
       "      <td>Brisbane</td>\n",
       "      <td>104</td>\n",
       "    </tr>\n",
       "    <tr>\n",
       "      <th>2</th>\n",
       "      <td>3</td>\n",
       "      <td>Brisbane</td>\n",
       "      <td>137</td>\n",
       "      <td>Collingwood</td>\n",
       "      <td>77</td>\n",
       "    </tr>\n",
       "    <tr>\n",
       "      <th>3</th>\n",
       "      <td>4</td>\n",
       "      <td>West Coast</td>\n",
       "      <td>79</td>\n",
       "      <td>Brisbane</td>\n",
       "      <td>76</td>\n",
       "    </tr>\n",
       "    <tr>\n",
       "      <th>4</th>\n",
       "      <td>5</td>\n",
       "      <td>Brisbane</td>\n",
       "      <td>110</td>\n",
       "      <td>Hawthorn</td>\n",
       "      <td>62</td>\n",
       "    </tr>\n",
       "    <tr>\n",
       "      <th>5</th>\n",
       "      <td>6</td>\n",
       "      <td>St.Kilda</td>\n",
       "      <td>92</td>\n",
       "      <td>Brisbane</td>\n",
       "      <td>91</td>\n",
       "    </tr>\n",
       "    <tr>\n",
       "      <th>6</th>\n",
       "      <td>7</td>\n",
       "      <td>North</td>\n",
       "      <td>76</td>\n",
       "      <td>Brisbane</td>\n",
       "      <td>120</td>\n",
       "    </tr>\n",
       "    <tr>\n",
       "      <th>7</th>\n",
       "      <td>8</td>\n",
       "      <td>Brisbane</td>\n",
       "      <td>140</td>\n",
       "      <td>Carlton</td>\n",
       "      <td>102</td>\n",
       "    </tr>\n",
       "    <tr>\n",
       "      <th>8</th>\n",
       "      <td>9</td>\n",
       "      <td>Fremantle</td>\n",
       "      <td>137</td>\n",
       "      <td>Brisbane</td>\n",
       "      <td>78</td>\n",
       "    </tr>\n",
       "    <tr>\n",
       "      <th>9</th>\n",
       "      <td>10</td>\n",
       "      <td>Melbourne</td>\n",
       "      <td>83</td>\n",
       "      <td>Brisbane</td>\n",
       "      <td>123</td>\n",
       "    </tr>\n",
       "    <tr>\n",
       "      <th>10</th>\n",
       "      <td>11</td>\n",
       "      <td>Brisbane</td>\n",
       "      <td>123</td>\n",
       "      <td>Port Adelaide</td>\n",
       "      <td>86</td>\n",
       "    </tr>\n",
       "    <tr>\n",
       "      <th>11</th>\n",
       "      <td>12</td>\n",
       "      <td>Essendon</td>\n",
       "      <td>96</td>\n",
       "      <td>Brisbane</td>\n",
       "      <td>162</td>\n",
       "    </tr>\n",
       "    <tr>\n",
       "      <th>12</th>\n",
       "      <td>13</td>\n",
       "      <td>Geelong</td>\n",
       "      <td>92</td>\n",
       "      <td>Brisbane</td>\n",
       "      <td>65</td>\n",
       "    </tr>\n",
       "    <tr>\n",
       "      <th>13</th>\n",
       "      <td>14</td>\n",
       "      <td>Brisbane</td>\n",
       "      <td>114</td>\n",
       "      <td>Richmond</td>\n",
       "      <td>96</td>\n",
       "    </tr>\n",
       "    <tr>\n",
       "      <th>14</th>\n",
       "      <td>15</td>\n",
       "      <td>Brisbane</td>\n",
       "      <td>136</td>\n",
       "      <td>Western Bulldogs</td>\n",
       "      <td>68</td>\n",
       "    </tr>\n",
       "    <tr>\n",
       "      <th>15</th>\n",
       "      <td>16</td>\n",
       "      <td>Collingwood</td>\n",
       "      <td>73</td>\n",
       "      <td>Brisbane</td>\n",
       "      <td>109</td>\n",
       "    </tr>\n",
       "    <tr>\n",
       "      <th>16</th>\n",
       "      <td>17</td>\n",
       "      <td>Brisbane</td>\n",
       "      <td>189</td>\n",
       "      <td>Adelaide Crows</td>\n",
       "      <td>48</td>\n",
       "    </tr>\n",
       "    <tr>\n",
       "      <th>17</th>\n",
       "      <td>18</td>\n",
       "      <td>Sydney</td>\n",
       "      <td>83</td>\n",
       "      <td>Brisbane</td>\n",
       "      <td>51</td>\n",
       "    </tr>\n",
       "    <tr>\n",
       "      <th>18</th>\n",
       "      <td>19</td>\n",
       "      <td>Brisbane</td>\n",
       "      <td>73</td>\n",
       "      <td>West Coast</td>\n",
       "      <td>87</td>\n",
       "    </tr>\n",
       "    <tr>\n",
       "      <th>19</th>\n",
       "      <td>20</td>\n",
       "      <td>Hawthorn</td>\n",
       "      <td>43</td>\n",
       "      <td>Brisbane</td>\n",
       "      <td>66</td>\n",
       "    </tr>\n",
       "    <tr>\n",
       "      <th>20</th>\n",
       "      <td>21</td>\n",
       "      <td>Brisbane</td>\n",
       "      <td>130</td>\n",
       "      <td>St.Kilda</td>\n",
       "      <td>85</td>\n",
       "    </tr>\n",
       "    <tr>\n",
       "      <th>21</th>\n",
       "      <td>22</td>\n",
       "      <td>Brisbane</td>\n",
       "      <td>170</td>\n",
       "      <td>North</td>\n",
       "      <td>57</td>\n",
       "    </tr>\n",
       "  </tbody>\n",
       "</table>\n",
       "</div>"
      ],
      "text/plain": [
       "    Round    Home Team  Home Team Score         Away Team  Away Team Score\n",
       "0       1     Brisbane               80            Sydney               78\n",
       "1       2     Adelaide               83          Brisbane              104\n",
       "2       3     Brisbane              137       Collingwood               77\n",
       "3       4   West Coast               79          Brisbane               76\n",
       "4       5    Brisbane               110          Hawthorn               62\n",
       "5       6     St.Kilda               92          Brisbane               91\n",
       "6       7        North               76          Brisbane              120\n",
       "7       8     Brisbane              140           Carlton              102\n",
       "8       9    Fremantle              137          Brisbane               78\n",
       "9      10    Melbourne               83          Brisbane              123\n",
       "10     11     Brisbane              123     Port Adelaide               86\n",
       "11     12     Essendon               96          Brisbane              162\n",
       "12     13      Geelong               92          Brisbane               65\n",
       "13     14     Brisbane              114          Richmond               96\n",
       "14     15     Brisbane              136  Western Bulldogs               68\n",
       "15     16  Collingwood               73          Brisbane              109\n",
       "16     17     Brisbane              189    Adelaide Crows               48\n",
       "17     18       Sydney               83          Brisbane               51\n",
       "18     19     Brisbane               73        West Coast               87\n",
       "19     20     Hawthorn               43          Brisbane               66\n",
       "20     21     Brisbane              130          St.Kilda               85\n",
       "21     22     Brisbane              170             North               57"
      ]
     },
     "execution_count": 3,
     "metadata": {},
     "output_type": "execute_result"
    }
   ],
   "source": [
    "brisbane_df"
   ]
  },
  {
   "cell_type": "code",
   "execution_count": 4,
   "id": "60728506",
   "metadata": {
    "execution": {
     "iopub.execute_input": "2021-12-26T18:09:24.899225Z",
     "iopub.status.busy": "2021-12-26T18:09:24.898590Z",
     "iopub.status.idle": "2021-12-26T18:09:24.902737Z",
     "shell.execute_reply": "2021-12-26T18:09:24.903315Z",
     "shell.execute_reply.started": "2021-12-26T17:58:36.632618Z"
    },
    "papermill": {
     "duration": 0.027622,
     "end_time": "2021-12-26T18:09:24.903497",
     "exception": false,
     "start_time": "2021-12-26T18:09:24.875875",
     "status": "completed"
    },
    "tags": []
   },
   "outputs": [
    {
     "data": {
      "text/plain": [
       "Round              10\n",
       "Home Team          10\n",
       "Home Team Score    10\n",
       "Away Team          10\n",
       "Away Team Score    10\n",
       "dtype: int64"
      ]
     },
     "execution_count": 4,
     "metadata": {},
     "output_type": "execute_result"
    }
   ],
   "source": [
    "brisbane_df[(brisbane_df['Home Team'] == 'Brisbane')].count()"
   ]
  },
  {
   "cell_type": "code",
   "execution_count": 5,
   "id": "e13be4e5",
   "metadata": {
    "execution": {
     "iopub.execute_input": "2021-12-26T18:09:24.923243Z",
     "iopub.status.busy": "2021-12-26T18:09:24.922621Z",
     "iopub.status.idle": "2021-12-26T18:09:24.930514Z",
     "shell.execute_reply": "2021-12-26T18:09:24.931079Z",
     "shell.execute_reply.started": "2021-12-26T17:58:30.078616Z"
    },
    "papermill": {
     "duration": 0.01957,
     "end_time": "2021-12-26T18:09:24.931252",
     "exception": false,
     "start_time": "2021-12-26T18:09:24.911682",
     "status": "completed"
    },
    "tags": []
   },
   "outputs": [
    {
     "data": {
      "text/plain": [
       "Round              11\n",
       "Home Team          11\n",
       "Home Team Score    11\n",
       "Away Team          11\n",
       "Away Team Score    11\n",
       "dtype: int64"
      ]
     },
     "execution_count": 5,
     "metadata": {},
     "output_type": "execute_result"
    }
   ],
   "source": [
    "brisbane_df[(brisbane_df['Away Team'] == 'Brisbane')].count()"
   ]
  },
  {
   "cell_type": "code",
   "execution_count": 6,
   "id": "901870d4",
   "metadata": {
    "execution": {
     "iopub.execute_input": "2021-12-26T18:09:24.951324Z",
     "iopub.status.busy": "2021-12-26T18:09:24.950726Z",
     "iopub.status.idle": "2021-12-26T18:09:24.954955Z",
     "shell.execute_reply": "2021-12-26T18:09:24.955546Z",
     "shell.execute_reply.started": "2021-12-26T18:08:41.411839Z"
    },
    "papermill": {
     "duration": 0.015991,
     "end_time": "2021-12-26T18:09:24.955731",
     "exception": false,
     "start_time": "2021-12-26T18:09:24.939740",
     "status": "completed"
    },
    "tags": []
   },
   "outputs": [],
   "source": [
    "class team_details:\n",
    "    def __init__(self, file_path, team_name):\n",
    "        self.file = pd.read_csv(file_path)\n",
    "        self.score_diff = []\n",
    "        self.result = []\n",
    "    \n",
    "    def get_win_loss():\n",
    "        pass\n",
    "        "
   ]
  },
  {
   "cell_type": "code",
   "execution_count": null,
   "id": "ab854ce1",
   "metadata": {
    "papermill": {
     "duration": 0.008447,
     "end_time": "2021-12-26T18:09:24.972571",
     "exception": false,
     "start_time": "2021-12-26T18:09:24.964124",
     "status": "completed"
    },
    "tags": []
   },
   "outputs": [],
   "source": []
  }
 ],
 "metadata": {
  "kernelspec": {
   "display_name": "Python 3",
   "language": "python",
   "name": "python3"
  },
  "language_info": {
   "codemirror_mode": {
    "name": "ipython",
    "version": 3
   },
   "file_extension": ".py",
   "mimetype": "text/x-python",
   "name": "python",
   "nbconvert_exporter": "python",
   "pygments_lexer": "ipython3",
   "version": "3.7.12"
  },
  "papermill": {
   "default_parameters": {},
   "duration": 10.89327,
   "end_time": "2021-12-26T18:09:25.590845",
   "environment_variables": {},
   "exception": null,
   "input_path": "__notebook__.ipynb",
   "output_path": "__notebook__.ipynb",
   "parameters": {},
   "start_time": "2021-12-26T18:09:14.697575",
   "version": "2.3.3"
  }
 },
 "nbformat": 4,
 "nbformat_minor": 5
}
